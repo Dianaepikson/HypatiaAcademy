{
  "nbformat": 4,
  "nbformat_minor": 0,
  "metadata": {
    "colab": {
      "provenance": [],
      "authorship_tag": "ABX9TyO0fCyosVJHkGVtHJ4yQnEX",
      "include_colab_link": true
    },
    "kernelspec": {
      "name": "python3",
      "display_name": "Python 3"
    },
    "language_info": {
      "name": "python"
    }
  },
  "cells": [
    {
      "cell_type": "markdown",
      "metadata": {
        "id": "view-in-github",
        "colab_type": "text"
      },
      "source": [
        "<a href=\"https://colab.research.google.com/github/Dianaepikson/HypatiaAcademy/blob/master/10_11_23.ipynb\" target=\"_parent\"><img src=\"https://colab.research.google.com/assets/colab-badge.svg\" alt=\"Open In Colab\"/></a>"
      ]
    },
    {
      "cell_type": "code",
      "source": [
        "import time\n",
        "\n",
        "print('miliseconds passed since epoch:', round(time.time()*1000))\n",
        "print('seconds passed since epoch:', round(time.time()))\n",
        "print('minutes passed since epoch:',round(time.time()/60))\n",
        "print('hours passed since epoch:',round(time.time()/3600))\n",
        "print('days passed since epoch:',round(time.time()/3600/24))"
      ],
      "metadata": {
        "colab": {
          "base_uri": "https://localhost:8080/"
        },
        "id": "IFDaZRa3pXye",
        "outputId": "44650238-ddb5-430a-d098-d765a761f6e6"
      },
      "execution_count": 9,
      "outputs": [
        {
          "output_type": "stream",
          "name": "stdout",
          "text": [
            "miliseconds passed since epoch: 1699626917272\n",
            "seconds passed since epoch: 1699626917\n",
            "minutes passed since epoch: 28327115\n",
            "hours passed since epoch: 472119\n",
            "days passed since epoch: 19672\n"
          ]
        }
      ]
    }
  ]
}