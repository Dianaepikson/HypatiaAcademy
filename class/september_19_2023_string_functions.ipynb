{
  "nbformat": 4,
  "nbformat_minor": 0,
  "metadata": {
    "colab": {
      "provenance": [],
      "authorship_tag": "ABX9TyPlPBC2v7gmh6BPyuyEgxBv",
      "include_colab_link": true
    },
    "kernelspec": {
      "name": "python3",
      "display_name": "Python 3"
    },
    "language_info": {
      "name": "python"
    }
  },
  "cells": [
    {
      "cell_type": "markdown",
      "metadata": {
        "id": "view-in-github",
        "colab_type": "text"
      },
      "source": [
        "<a href=\"https://colab.research.google.com/github/werowe/HypatiaAcademy/blob/master/class/september_19_2023_string_functions.ipynb\" target=\"_parent\"><img src=\"https://colab.research.google.com/assets/colab-badge.svg\" alt=\"Open In Colab\"/></a>"
      ]
    },
    {
      "cell_type": "code",
      "execution_count": 6,
      "metadata": {
        "colab": {
          "base_uri": "https://localhost:8080/"
        },
        "id": "X025K93-wfoX",
        "outputId": "173d6096-7ba0-485d-9766-eb752f1395b8"
      },
      "outputs": [
        {
          "output_type": "stream",
          "name": "stdout",
          "text": [
            "hello world\n"
          ]
        }
      ],
      "source": [
        "t=\"hello world\"\n",
        "\n",
        "print(t)\n"
      ]
    },
    {
      "cell_type": "code",
      "source": [
        "# look at parts of the string\n",
        "\n",
        "\n",
        "#.  hello\n",
        "#.  01234\n",
        "\n",
        "# this means print or show the second letter\n",
        "\n",
        "print(\"first letter=\", t[0])\n",
        "print(\"second letter=\", t[1])\n",
        "\n",
        "\n"
      ],
      "metadata": {
        "colab": {
          "base_uri": "https://localhost:8080/"
        },
        "id": "sJqfeFZT0Za9",
        "outputId": "867caf5d-5838-4dc5-90ec-e4a1746c8e9f"
      },
      "execution_count": 12,
      "outputs": [
        {
          "output_type": "stream",
          "name": "stdout",
          "text": [
            "first letter= h\n",
            "second letter= e\n"
          ]
        }
      ]
    },
    {
      "cell_type": "code",
      "source": [
        "# adding numbers is different than adding letters\n",
        "\n",
        "# adding letters is called concatenation\n",
        "\n",
        "\n",
        "mything=\"xxxx\"\n",
        "\n",
        "yourstuff=\"yyyyy\"\n",
        "\n",
        "print(mything + \" \" + yourstuff)\n"
      ],
      "metadata": {
        "colab": {
          "base_uri": "https://localhost:8080/"
        },
        "id": "4xckwrk11Jk4",
        "outputId": "3a2cb378-2670-42dc-f210-6937b970e012"
      },
      "execution_count": 16,
      "outputs": [
        {
          "output_type": "stream",
          "name": "stdout",
          "text": [
            "xxxx yyyyy\n"
          ]
        }
      ]
    },
    {
      "cell_type": "code",
      "source": [
        "len(\"abc\")\n",
        "\n",
        "\n",
        "t=\"hello world\"\n",
        "x='01234567890'\n",
        "\n",
        "print(\"first letter\", t[0])\n",
        "\n",
        "# hard code is BAAAAAAAD\n",
        "\n",
        "\n",
        "print(\"last letter\", t[10])\n",
        "\n",
        "print(\"last letter\", t[len(t)-1])"
      ],
      "metadata": {
        "colab": {
          "base_uri": "https://localhost:8080/"
        },
        "id": "9soF2heR1xu6",
        "outputId": "5c12e986-8f72-4e0e-ff46-110306034a94"
      },
      "execution_count": 22,
      "outputs": [
        {
          "output_type": "stream",
          "name": "stdout",
          "text": [
            "first letter h\n",
            "last letter d\n",
            "last letter d\n"
          ]
        }
      ]
    },
    {
      "cell_type": "code",
      "source": [
        "# print string[from:to]\n",
        "\n",
        "# go from position from to position to - 1\n",
        "\n",
        "\n",
        "# Python is a safe language.  It keeps you out of trouble\n",
        "\n",
        "t[0:50]\n",
        "\n",
        "# lists\n",
        "\n",
        "letters = [\"h\", \"e\", \"l\", \"l\", \"o\"]\n",
        "\n",
        "# this will give an error mesage there are 5 elements in the list.  the address of the last one is\n",
        "\n",
        "# letters[5]\n"
      ],
      "metadata": {
        "id": "zg6PE99R2wWg"
      },
      "execution_count": 32,
      "outputs": []
    },
    {
      "cell_type": "code",
      "source": [
        "\n",
        "print(\"here is t\", t)\n",
        "\n",
        "print(\"last two letters \", t[-2:])\n",
        "\n",
        "\n",
        "\n",
        "#hello world\n",
        "#01234567890\n",
        "#10987654321\n",
        "\n",
        "print(t[-7])\n",
        "\n",
        "t[-7:-3]\n",
        "\n",
        "# when we use a negative number that means start counting from the end not the beginning\n",
        "# and when you count from the end it starts at 1\n",
        "# when you count from the beginningi t starts at 0\n"
      ],
      "metadata": {
        "colab": {
          "base_uri": "https://localhost:8080/",
          "height": 91
        },
        "id": "Tr5Yai1q36tp",
        "outputId": "26454ef2-e0cd-451c-e034-e642fd526aeb"
      },
      "execution_count": 38,
      "outputs": [
        {
          "output_type": "stream",
          "name": "stdout",
          "text": [
            "here is t hello world\n",
            "last two letters  ld\n",
            "o\n"
          ]
        },
        {
          "output_type": "execute_result",
          "data": {
            "text/plain": [
              "'o wo'"
            ],
            "application/vnd.google.colaboratory.intrinsic+json": {
              "type": "string"
            }
          },
          "metadata": {},
          "execution_count": 38
        }
      ]
    },
    {
      "cell_type": "code",
      "source": [
        "t.upper()"
      ],
      "metadata": {
        "colab": {
          "base_uri": "https://localhost:8080/",
          "height": 37
        },
        "id": "0RehQrLP5PiI",
        "outputId": "32ae0823-31d1-460a-a150-e547c54dcc87"
      },
      "execution_count": 41,
      "outputs": [
        {
          "output_type": "execute_result",
          "data": {
            "text/plain": [
              "'HELLO WORLD'"
            ],
            "application/vnd.google.colaboratory.intrinsic+json": {
              "type": "string"
            }
          },
          "metadata": {},
          "execution_count": 41
        }
      ]
    },
    {
      "cell_type": "code",
      "source": [
        "txt = \"Hello, welcome to my world.\"\n",
        "\n",
        "x = txt.index(\"welcome\")\n",
        "\n",
        "print(x)"
      ],
      "metadata": {
        "colab": {
          "base_uri": "https://localhost:8080/"
        },
        "id": "6GTcsf6A6X4W",
        "outputId": "eabec427-6edd-4cb0-a613-c721efe80e02"
      },
      "execution_count": 42,
      "outputs": [
        {
          "output_type": "stream",
          "name": "stdout",
          "text": [
            "7\n"
          ]
        }
      ]
    },
    {
      "cell_type": "code",
      "source": [
        "txt.find(\"welcome\")"
      ],
      "metadata": {
        "colab": {
          "base_uri": "https://localhost:8080/"
        },
        "id": "CFDBccoU6oP2",
        "outputId": "6d2cbcda-ed8c-4af0-a60b-e5244a8c80ba"
      },
      "execution_count": 43,
      "outputs": [
        {
          "output_type": "execute_result",
          "data": {
            "text/plain": [
              "7"
            ]
          },
          "metadata": {},
          "execution_count": 43
        }
      ]
    },
    {
      "cell_type": "code",
      "source": [
        "#text = \"Hello, world!\"\n",
        "#position = text.index(\"world\")  # Returns 7\n",
        "#position2 = text.index(\"Python\")  # Raises a ValueError because \"Python\" is not found\n",
        "\n",
        "\n",
        "# comment, ignore line\n",
        "#5/0\n",
        "print(\"0/5=\",0/5)\n",
        "\n",
        "\n",
        "# exponent\n",
        "2**2\n",
        "\n",
        "\n",
        "# formatted strings.  we want to get rid of the decimal point\n",
        "# for example how do we print dates, how do we print numbers in Greek\n",
        "\n",
        "# 0,0\n",
        "\n",
        "# 1,000,000\n",
        "\n",
        "0.0\n",
        "\n",
        "\n",
        "\n"
      ],
      "metadata": {
        "colab": {
          "base_uri": "https://localhost:8080/"
        },
        "id": "t0SdxJoG7BZK",
        "outputId": "c345e58a-0f85-436c-9271-51f3f6746357"
      },
      "execution_count": 51,
      "outputs": [
        {
          "output_type": "stream",
          "name": "stdout",
          "text": [
            "0/5= 0.0\n"
          ]
        },
        {
          "output_type": "execute_result",
          "data": {
            "text/plain": [
              "4"
            ]
          },
          "metadata": {},
          "execution_count": 51
        }
      ]
    },
    {
      "cell_type": "code",
      "source": [
        "# index causes an error when the string is not found\n",
        "\n",
        "# errors look bad so use find\n",
        "\n",
        "# hello world\n",
        "# hello\n",
        "\n",
        "print(\"hello world\"[0:6])\n",
        "\n",
        "print(\"first letter\",t[0])\n",
        "\n",
        "stophere=t.find(\"world\")\n",
        "\n",
        "t[0:stophere]"
      ],
      "metadata": {
        "colab": {
          "base_uri": "https://localhost:8080/",
          "height": 73
        },
        "id": "ur6t-tur8LR3",
        "outputId": "5fa19141-e99d-4100-8300-e0c879c98d0f"
      },
      "execution_count": 63,
      "outputs": [
        {
          "output_type": "stream",
          "name": "stdout",
          "text": [
            "hello \n",
            "first letter h\n"
          ]
        },
        {
          "output_type": "execute_result",
          "data": {
            "text/plain": [
              "'hello '"
            ],
            "application/vnd.google.colaboratory.intrinsic+json": {
              "type": "string"
            }
          },
          "metadata": {},
          "execution_count": 63
        }
      ]
    },
    {
      "cell_type": "code",
      "source": [
        "students=\"anna,dianna,yevhen,joaquim,samuil\"\n",
        "\n",
        "# this makes a list from a string\n",
        "s=students.split(\",\")\n",
        "print(s)"
      ],
      "metadata": {
        "colab": {
          "base_uri": "https://localhost:8080/"
        },
        "id": "dj5bf6uO9EV5",
        "outputId": "c02e5833-88e3-4f8c-cb93-3a8f06d04759"
      },
      "execution_count": 65,
      "outputs": [
        {
          "output_type": "stream",
          "name": "stdout",
          "text": [
            "['anna', 'dianna', 'yevhen', 'joaquim', 'samuil']\n"
          ]
        }
      ]
    },
    {
      "cell_type": "code",
      "source": [
        "# the first student is the first item in the list\n",
        "\n",
        "s[0]"
      ],
      "metadata": {
        "colab": {
          "base_uri": "https://localhost:8080/",
          "height": 37
        },
        "id": "_rcIS0eQ-ChR",
        "outputId": "a1a6ebba-0d8c-42e6-8363-63cab73e9070"
      },
      "execution_count": 67,
      "outputs": [
        {
          "output_type": "execute_result",
          "data": {
            "text/plain": [
              "'anna'"
            ],
            "application/vnd.google.colaboratory.intrinsic+json": {
              "type": "string"
            }
          },
          "metadata": {},
          "execution_count": 67
        }
      ]
    },
    {
      "cell_type": "code",
      "source": [
        "'''\n",
        "\n",
        "homework:\n",
        "\n",
        "look at this web page and pick two string functions and gives examples of teach\n",
        "\n",
        "https://www.w3schools.com/python/python_ref_string.asp\n",
        "\n",
        "\n",
        "\n",
        "'''"
      ],
      "metadata": {
        "id": "QQ5QN8N0--8O"
      },
      "execution_count": null,
      "outputs": []
    }
  ]
}