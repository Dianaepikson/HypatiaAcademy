{
  "nbformat": 4,
  "nbformat_minor": 0,
  "metadata": {
    "colab": {
      "provenance": [],
      "authorship_tag": "ABX9TyP4I0Axx7nud0oVo4mZkfe8",
      "include_colab_link": true
    },
    "kernelspec": {
      "name": "python3",
      "display_name": "Python 3"
    },
    "language_info": {
      "name": "python"
    }
  },
  "cells": [
    {
      "cell_type": "markdown",
      "metadata": {
        "id": "view-in-github",
        "colab_type": "text"
      },
      "source": [
        "<a href=\"https://colab.research.google.com/github/Dianaepikson/HypatiaAcademy/blob/master/28_11_23.ipynb\" target=\"_parent\"><img src=\"https://colab.research.google.com/assets/colab-badge.svg\" alt=\"Open In Colab\"/></a>"
      ]
    },
    {
      "cell_type": "code",
      "source": [
        "class tshirt():\n",
        "\n",
        "   def __init__(self, kind, color,):\n",
        "\n",
        "    self.kind = kind\n",
        "    self.color =  color\n",
        "\n",
        "\n",
        "   def IsEqual(self):\n",
        "      return self.kind == tshirt.kind and self.color == tshirt.color\n",
        "\n",
        "   def toString(self):\n",
        "      return \"the tshirt's kind is %s and color %s\" % (self.kind, self.color)"
      ],
      "metadata": {
        "id": "kQuYuvlxJeR2"
      },
      "execution_count": 1,
      "outputs": []
    },
    {
      "cell_type": "code",
      "source": [
        "shirt = tshirt(\"nike\",\"red\")\n",
        "print(shirt.toString())"
      ],
      "metadata": {
        "colab": {
          "base_uri": "https://localhost:8080/"
        },
        "id": "GVFdQNRDBsgf",
        "outputId": "aca0be8d-dc69-4c03-ff4f-c601490c1d67"
      },
      "execution_count": 2,
      "outputs": [
        {
          "output_type": "stream",
          "name": "stdout",
          "text": [
            "the tshirt's kind is nike and color red\n"
          ]
        }
      ]
    }
  ]
}