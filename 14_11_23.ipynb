{
  "nbformat": 4,
  "nbformat_minor": 0,
  "metadata": {
    "colab": {
      "provenance": [],
      "authorship_tag": "ABX9TyOscn+imzVE4ZCod9iMU+sN",
      "include_colab_link": true
    },
    "kernelspec": {
      "name": "python3",
      "display_name": "Python 3"
    },
    "language_info": {
      "name": "python"
    }
  },
  "cells": [
    {
      "cell_type": "markdown",
      "metadata": {
        "id": "view-in-github",
        "colab_type": "text"
      },
      "source": [
        "<a href=\"https://colab.research.google.com/github/Dianaepikson/HypatiaAcademy/blob/master/14_11_23.ipynb\" target=\"_parent\"><img src=\"https://colab.research.google.com/assets/colab-badge.svg\" alt=\"Open In Colab\"/></a>"
      ]
    },
    {
      "cell_type": "code",
      "source": [
        "for i in range(32, 127):\n",
        "    hexPart = hex(i)\n",
        "    binaryPart = bin(i)\n",
        "    print(chr(i), i, hexPart, binaryPart)"
      ],
      "metadata": {
        "colab": {
          "base_uri": "https://localhost:8080/"
        },
        "id": "oeOb4tGlIRN9",
        "outputId": "c5f45db9-b662-4352-b2a0-7403782940ba"
      },
      "execution_count": 8,
      "outputs": [
        {
          "output_type": "stream",
          "name": "stdout",
          "text": [
            "  32 0x20 0b100000\n",
            "! 33 0x21 0b100001\n",
            "\" 34 0x22 0b100010\n",
            "# 35 0x23 0b100011\n",
            "$ 36 0x24 0b100100\n",
            "% 37 0x25 0b100101\n",
            "& 38 0x26 0b100110\n",
            "' 39 0x27 0b100111\n",
            "( 40 0x28 0b101000\n",
            ") 41 0x29 0b101001\n",
            "* 42 0x2a 0b101010\n",
            "+ 43 0x2b 0b101011\n",
            ", 44 0x2c 0b101100\n",
            "- 45 0x2d 0b101101\n",
            ". 46 0x2e 0b101110\n",
            "/ 47 0x2f 0b101111\n",
            "0 48 0x30 0b110000\n",
            "1 49 0x31 0b110001\n",
            "2 50 0x32 0b110010\n",
            "3 51 0x33 0b110011\n",
            "4 52 0x34 0b110100\n",
            "5 53 0x35 0b110101\n",
            "6 54 0x36 0b110110\n",
            "7 55 0x37 0b110111\n",
            "8 56 0x38 0b111000\n",
            "9 57 0x39 0b111001\n",
            ": 58 0x3a 0b111010\n",
            "; 59 0x3b 0b111011\n",
            "< 60 0x3c 0b111100\n",
            "= 61 0x3d 0b111101\n",
            "> 62 0x3e 0b111110\n",
            "? 63 0x3f 0b111111\n",
            "@ 64 0x40 0b1000000\n",
            "A 65 0x41 0b1000001\n",
            "B 66 0x42 0b1000010\n",
            "C 67 0x43 0b1000011\n",
            "D 68 0x44 0b1000100\n",
            "E 69 0x45 0b1000101\n",
            "F 70 0x46 0b1000110\n",
            "G 71 0x47 0b1000111\n",
            "H 72 0x48 0b1001000\n",
            "I 73 0x49 0b1001001\n",
            "J 74 0x4a 0b1001010\n",
            "K 75 0x4b 0b1001011\n",
            "L 76 0x4c 0b1001100\n",
            "M 77 0x4d 0b1001101\n",
            "N 78 0x4e 0b1001110\n",
            "O 79 0x4f 0b1001111\n",
            "P 80 0x50 0b1010000\n",
            "Q 81 0x51 0b1010001\n",
            "R 82 0x52 0b1010010\n",
            "S 83 0x53 0b1010011\n",
            "T 84 0x54 0b1010100\n",
            "U 85 0x55 0b1010101\n",
            "V 86 0x56 0b1010110\n",
            "W 87 0x57 0b1010111\n",
            "X 88 0x58 0b1011000\n",
            "Y 89 0x59 0b1011001\n",
            "Z 90 0x5a 0b1011010\n",
            "[ 91 0x5b 0b1011011\n",
            "\\ 92 0x5c 0b1011100\n",
            "] 93 0x5d 0b1011101\n",
            "^ 94 0x5e 0b1011110\n",
            "_ 95 0x5f 0b1011111\n",
            "` 96 0x60 0b1100000\n",
            "a 97 0x61 0b1100001\n",
            "b 98 0x62 0b1100010\n",
            "c 99 0x63 0b1100011\n",
            "d 100 0x64 0b1100100\n",
            "e 101 0x65 0b1100101\n",
            "f 102 0x66 0b1100110\n",
            "g 103 0x67 0b1100111\n",
            "h 104 0x68 0b1101000\n",
            "i 105 0x69 0b1101001\n",
            "j 106 0x6a 0b1101010\n",
            "k 107 0x6b 0b1101011\n",
            "l 108 0x6c 0b1101100\n",
            "m 109 0x6d 0b1101101\n",
            "n 110 0x6e 0b1101110\n",
            "o 111 0x6f 0b1101111\n",
            "p 112 0x70 0b1110000\n",
            "q 113 0x71 0b1110001\n",
            "r 114 0x72 0b1110010\n",
            "s 115 0x73 0b1110011\n",
            "t 116 0x74 0b1110100\n",
            "u 117 0x75 0b1110101\n",
            "v 118 0x76 0b1110110\n",
            "w 119 0x77 0b1110111\n",
            "x 120 0x78 0b1111000\n",
            "y 121 0x79 0b1111001\n",
            "z 122 0x7a 0b1111010\n",
            "{ 123 0x7b 0b1111011\n",
            "| 124 0x7c 0b1111100\n",
            "} 125 0x7d 0b1111101\n",
            "~ 126 0x7e 0b1111110\n"
          ]
        }
      ]
    }
  ]
}