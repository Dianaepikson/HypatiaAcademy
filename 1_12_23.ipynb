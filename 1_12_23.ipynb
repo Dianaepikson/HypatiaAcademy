{
  "nbformat": 4,
  "nbformat_minor": 0,
  "metadata": {
    "colab": {
      "provenance": [],
      "authorship_tag": "ABX9TyPdLGPzgmLnlOpJ6GXUA5c+",
      "include_colab_link": true
    },
    "kernelspec": {
      "name": "python3",
      "display_name": "Python 3"
    },
    "language_info": {
      "name": "python"
    }
  },
  "cells": [
    {
      "cell_type": "markdown",
      "metadata": {
        "id": "view-in-github",
        "colab_type": "text"
      },
      "source": [
        "<a href=\"https://colab.research.google.com/github/Dianaepikson/HypatiaAcademy/blob/master/1_12_23.ipynb\" target=\"_parent\"><img src=\"https://colab.research.google.com/assets/colab-badge.svg\" alt=\"Open In Colab\"/></a>"
      ]
    },
    {
      "cell_type": "code",
      "source": [
        "a = 0\n",
        "b = a**0\n",
        "if b < a + 1:\n",
        "  c = 1\n",
        "elif b == 1:\n",
        "  c = 2\n",
        "else:\n",
        "  c = 3\n",
        "print(a + b + c)\n"
      ],
      "metadata": {
        "colab": {
          "base_uri": "https://localhost:8080/"
        },
        "id": "LLSrZTC7s77s",
        "outputId": "4637f25f-e1da-4c0e-ecf4-c0b47e1306b6"
      },
      "execution_count": 1,
      "outputs": [
        {
          "output_type": "stream",
          "name": "stdout",
          "text": [
            "3\n"
          ]
        }
      ]
    },
    {
      "cell_type": "code",
      "execution_count": 2,
      "metadata": {
        "colab": {
          "base_uri": "https://localhost:8080/"
        },
        "id": "F5jkSaZts4VI",
        "outputId": "0c40241a-2dcd-4edc-e993-65534cda1284"
      },
      "outputs": [
        {
          "output_type": "stream",
          "name": "stdout",
          "text": [
            "*\n",
            "*\n",
            "*\n"
          ]
        }
      ],
      "source": [
        "i = 10\n",
        "while i > 0:\n",
        "  i -=3\n",
        "  print(\"*\")\n",
        "  if i <=3:\n",
        "    break\n",
        "else:\n",
        "  print(\"*\")\n"
      ]
    }
  ]
}