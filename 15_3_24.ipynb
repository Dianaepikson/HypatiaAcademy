{
  "nbformat": 4,
  "nbformat_minor": 0,
  "metadata": {
    "colab": {
      "provenance": [],
      "authorship_tag": "ABX9TyPdWDWnPzp7E3FoJkgZaKRx",
      "include_colab_link": true
    },
    "kernelspec": {
      "name": "python3",
      "display_name": "Python 3"
    },
    "language_info": {
      "name": "python"
    }
  },
  "cells": [
    {
      "cell_type": "markdown",
      "metadata": {
        "id": "view-in-github",
        "colab_type": "text"
      },
      "source": [
        "<a href=\"https://colab.research.google.com/github/Dianaepikson/HypatiaAcademy/blob/master/15_3_24.ipynb\" target=\"_parent\"><img src=\"https://colab.research.google.com/assets/colab-badge.svg\" alt=\"Open In Colab\"/></a>"
      ]
    },
    {
      "cell_type": "code",
      "source": [
        "import numpy as np\n",
        "\n",
        "array = np.random.randint(1,100,(7,7))\n",
        "print(array)\n",
        "\n",
        "array[0:3,0:4]"
      ],
      "metadata": {
        "colab": {
          "base_uri": "https://localhost:8080/"
        },
        "id": "L43xQGaQo6_0",
        "outputId": "bf1e8da9-ff0d-43ce-e12a-bbff49b0aaf9"
      },
      "execution_count": 11,
      "outputs": [
        {
          "output_type": "stream",
          "name": "stdout",
          "text": [
            "[[80 64 55 29 63 98 96]\n",
            " [61  5 70 42  4 17 73]\n",
            " [ 7 99 14 23 29 22 42]\n",
            " [84 86 90 85 78 84 35]\n",
            " [36 75 15 40 56 25 96]\n",
            " [85 43 93 23  3 17 81]\n",
            " [73 91 85 33 97 89 55]]\n"
          ]
        },
        {
          "output_type": "execute_result",
          "data": {
            "text/plain": [
              "array([[80, 64, 55, 29],\n",
              "       [61,  5, 70, 42],\n",
              "       [ 7, 99, 14, 23]])"
            ]
          },
          "metadata": {},
          "execution_count": 11
        }
      ]
    }
  ]
}